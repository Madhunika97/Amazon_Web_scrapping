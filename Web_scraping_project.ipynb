{
 "cells": [
  {
   "cell_type": "code",
   "execution_count": 17,
   "id": "4707a202-131c-484c-9dfb-966aae22e8c9",
   "metadata": {},
   "outputs": [],
   "source": [
    "from bs4 import BeautifulSoup\n",
    "import requests\n",
    "import pandas as pd"
   ]
  },
  {
   "cell_type": "code",
   "execution_count": 5,
   "id": "9c890ee3-a130-4a22-b92f-06491d5c0e3c",
   "metadata": {},
   "outputs": [],
   "source": [
    "URL= 'https://www.amazon.com/s?k=playstation+5&crid=19MUPYLDMLGU9&sprefix=%2Caps%2C276&ref=nb_sb_ss_recent_1_0_recent'"
   ]
  },
  {
   "cell_type": "code",
   "execution_count": 6,
   "id": "0fc82d82-361b-4ec5-99bb-824a752f2448",
   "metadata": {},
   "outputs": [],
   "source": [
    "HEADERS = ({'User-Agent':'Mozilla/5.0 (Windows NT 10.0; Win64; x64) AppleWebKit/537.36 (KHTML, like Gecko) Chrome/119.0.0.0 Safari/537.36 OPR/105.0.0.0' ,'Accept-Language': 'en-US, en;q=0.5'})"
   ]
  },
  {
   "cell_type": "code",
   "execution_count": 8,
   "id": "36a26b77-6e1d-43f2-bb60-38e4fc5ba5a2",
   "metadata": {},
   "outputs": [],
   "source": [
    "webpage = requests.get (URL, headers= HEADERS)"
   ]
  },
  {
   "cell_type": "code",
   "execution_count": 9,
   "id": "da17cd7e-f491-47f1-aac6-0d88f2b5e6d6",
   "metadata": {},
   "outputs": [
    {
     "data": {
      "text/plain": [
       "<Response [200]>"
      ]
     },
     "execution_count": 9,
     "metadata": {},
     "output_type": "execute_result"
    }
   ],
   "source": [
    "webpage"
   ]
  },
  {
   "cell_type": "code",
   "execution_count": 19,
   "id": "f46a579e-67a8-4efb-a61b-32d67367a8c2",
   "metadata": {},
   "outputs": [],
   "source": [
    "soup = BeautifulSoup(webpage.content, \"html.parser\")"
   ]
  },
  {
   "cell_type": "code",
   "execution_count": 21,
   "id": "c4868c0d-af60-4f85-91b5-4f6651f630d7",
   "metadata": {},
   "outputs": [],
   "source": [
    "links= soup.find_all (\"a\", attrs= {'class':'a-link-normal s-underline-text s-underline-link-text s-link-style a-text-normal'})"
   ]
  },
  {
   "cell_type": "code",
   "execution_count": 28,
   "id": "cfa3bdab-62ae-4068-ab4f-2caffe64d537",
   "metadata": {},
   "outputs": [],
   "source": [
    "link = links[0].get('href')"
   ]
  },
  {
   "cell_type": "code",
   "execution_count": 26,
   "id": "494de1fc-03d6-4a57-83f0-5f79266779a5",
   "metadata": {},
   "outputs": [],
   "source": [
    "product_list = \"https://amazon.com\" + link"
   ]
  },
  {
   "cell_type": "code",
   "execution_count": 27,
   "id": "17636cc0-4891-49d7-bdc1-a2bffc41d6b4",
   "metadata": {},
   "outputs": [
    {
     "data": {
      "text/plain": [
       "'https://amazon.com/PlayStation-Console-Marvels-Spider-Man-Bundle-5/dp/B0CKZGY5B6/ref=sr_1_1?crid=19MUPYLDMLGU9&keywords=playstation+5&qid=1703165547&sprefix=%2Caps%2C276&sr=8-1'"
      ]
     },
     "execution_count": 27,
     "metadata": {},
     "output_type": "execute_result"
    }
   ],
   "source": [
    "product_list"
   ]
  },
  {
   "cell_type": "code",
   "execution_count": 30,
   "id": "9c56fa35-27b3-45a8-b909-c7dab519d627",
   "metadata": {},
   "outputs": [],
   "source": [
    "new_webpage = requests.get (product_list, headers = HEADERS)"
   ]
  },
  {
   "cell_type": "code",
   "execution_count": 31,
   "id": "eaff0446-046e-4e75-920d-b213cae6163f",
   "metadata": {},
   "outputs": [
    {
     "data": {
      "text/plain": [
       "<Response [200]>"
      ]
     },
     "execution_count": 31,
     "metadata": {},
     "output_type": "execute_result"
    }
   ],
   "source": [
    "new_webpage"
   ]
  },
  {
   "cell_type": "code",
   "execution_count": 36,
   "id": "f80cb327-ba99-40b1-b1fb-5d267615f8fb",
   "metadata": {},
   "outputs": [],
   "source": [
    "new_soup = BeautifulSoup(new_webpage.content, \"html.parser\")"
   ]
  },
  {
   "cell_type": "code",
   "execution_count": 38,
   "id": "627574c7-f324-4458-8d21-7404fd368af8",
   "metadata": {},
   "outputs": [
    {
     "data": {
      "text/plain": [
       "'PlayStation 5 Console - \\xa0Marvel’s Spider-Man 2 Bundle (slim)'"
      ]
     },
     "execution_count": 38,
     "metadata": {},
     "output_type": "execute_result"
    }
   ],
   "source": [
    "new_soup.find(\"span\", attrs = {\"id\":'productTitle'}).text.strip()"
   ]
  },
  {
   "cell_type": "code",
   "execution_count": 58,
   "id": "e42c47e8-cd8c-4b82-a0b0-d9bb3c6b416f",
   "metadata": {},
   "outputs": [
    {
     "name": "stdout",
     "output_type": "stream",
     "text": [
      "$499.00\n"
     ]
    }
   ],
   "source": [
    "# Extracting only the price value\n",
    "price_tag = new_soup.find(\"span\", attrs={\"class\": \"a-offscreen\"})\n",
    "if price_tag:\n",
    "    price = price_tag.text\n",
    "    print(price)"
   ]
  },
  {
   "cell_type": "code",
   "execution_count": 60,
   "id": "8ab8f427-0046-4285-a1bc-57cbe598e0da",
   "metadata": {},
   "outputs": [
    {
     "data": {
      "text/plain": [
       "'4.5 out of 5 stars'"
      ]
     },
     "execution_count": 60,
     "metadata": {},
     "output_type": "execute_result"
    }
   ],
   "source": [
    "new_soup.find(\"span\", attrs = {\"class\":'a-icon-alt'}).text"
   ]
  }
 ],
 "metadata": {
  "kernelspec": {
   "display_name": "Python 3 (ipykernel)",
   "language": "python",
   "name": "python3"
  },
  "language_info": {
   "codemirror_mode": {
    "name": "ipython",
    "version": 3
   },
   "file_extension": ".py",
   "mimetype": "text/x-python",
   "name": "python",
   "nbconvert_exporter": "python",
   "pygments_lexer": "ipython3",
   "version": "3.12.1"
  }
 },
 "nbformat": 4,
 "nbformat_minor": 5
}
